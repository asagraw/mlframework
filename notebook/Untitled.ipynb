{
 "cells": [
  {
   "cell_type": "code",
   "execution_count": 1,
   "metadata": {},
   "outputs": [],
   "source": [
    "import pandas as pd\n",
    "from sklearn import preprocessing"
   ]
  },
  {
   "cell_type": "code",
   "execution_count": 2,
   "metadata": {},
   "outputs": [],
   "source": [
    "df = pd.read_csv('../input/train_imet.csv')"
   ]
  },
  {
   "cell_type": "code",
   "execution_count": 3,
   "metadata": {},
   "outputs": [],
   "source": [
    "targets = df['attribute_ids'].apply(lambda x: len(str(x).split(\" \")))"
   ]
  },
  {
   "cell_type": "code",
   "execution_count": 4,
   "metadata": {},
   "outputs": [
    {
     "data": {
      "text/plain": [
       "0    3\n",
       "1    4\n",
       "2    1\n",
       "3    5\n",
       "4    5\n",
       "Name: attribute_ids, dtype: int64"
      ]
     },
     "execution_count": 4,
     "metadata": {},
     "output_type": "execute_result"
    }
   ],
   "source": [
    "targets.head()"
   ]
  },
  {
   "cell_type": "code",
   "execution_count": 1,
   "metadata": {},
   "outputs": [
    {
     "ename": "SyntaxError",
     "evalue": "invalid syntax (<ipython-input-1-7a145fd4dc5d>, line 37)",
     "output_type": "error",
     "traceback": [
      "\u001b[1;36m  File \u001b[1;32m\"<ipython-input-1-7a145fd4dc5d>\"\u001b[1;36m, line \u001b[1;32m37\u001b[0m\n\u001b[1;33m    new_col_name = c+f\"__bin__{i}\"\u001b[0m\n\u001b[1;37m                                 ^\u001b[0m\n\u001b[1;31mSyntaxError\u001b[0m\u001b[1;31m:\u001b[0m invalid syntax\n"
     ]
    }
   ],
   "source": [
    "from sklearn import preprocessing\n",
    "import pandas as pd\n",
    "class CategoricalFeatures:\n",
    "    def __init__(self, df, categorical_features, encoding_type, handle_na=False):\n",
    "        \"\"\"\n",
    "        df: pandas dataframe\n",
    "        categorical features: list of column names\n",
    "        encoding type: label, binary, ohe\n",
    "        \"\"\"\n",
    "        self.df = df\n",
    "        self.handle_na = handle_na\n",
    "        self.cat_feats = categorical_features\n",
    "        self.enc_type = encoding_type\n",
    "        self.label_encoders = dict()\n",
    "        self.label_binarizer = dict()\n",
    "        self.ohe = None\n",
    "        if self.handle_na == True:\n",
    "            for c in self.cat_feats:\n",
    "                self.df.loc[:, c] = self.df.loc[:,c].astype(str).fillna(\"-9999999\")\n",
    "        self.output_df = self.df.copy(deep=True)\n",
    "    \n",
    "    def _label_encoding(self):\n",
    "        for c in self.cat_feats:\n",
    "            lbl = preprocessing.LabelEncoder()\n",
    "            lbl.fit(self.df[c].values)\n",
    "            self.output_df.loc[:, c] = lbl.transform(self.df[c].values)\n",
    "            self.label_encoders[c] = lbl\n",
    "        return self.output_df\n",
    "    \n",
    "    def _label_binarizer(self):\n",
    "        for c in self.cat_feats:\n",
    "            lbl = preprocessing.LabelBinarizer()\n",
    "            lbl.fit(self.df[c].values)\n",
    "            val = lbl.transform(df[c].values)\n",
    "            self.output_df = self.output_df.drop(c, axis=1)\n",
    "            for i in range(val.shape[1]):\n",
    "                new_col_name = c+f\"__bin__{i}\"\n",
    "                self.output_df[new_col_name] = val[:,i]\n",
    "            self.label_binarizer[c] = lbl\n",
    "        return self.output_df\n",
    "    def one_hot(self):\n",
    "        ohe = preprocessing.OneHotEncoder()\n",
    "        ohe.fit(self.df[self.cat_feats].values)\n",
    "        self.ohe = ohe\n",
    "        return ohe.transform(self.df[self.cat_feats].values)\n",
    "    \n",
    "    def fit_transform(self):\n",
    "        if self.enc_type == 'label':\n",
    "            return self._label_encoding()\n",
    "        elif self.enc_type == 'binary':\n",
    "            return self._label_binarizer()\n",
    "        elif self.enc_type == 'ohe':\n",
    "            return self.one_hot()\n",
    "        else:\n",
    "            return Exception(\"Encoding type not understood\")\n",
    "        \n",
    "    def transform(self, dataframe):\n",
    "        if self.handle_na == True:\n",
    "            for c in self.cat_feats:\n",
    "                dataframe.loc[:,c] = dataframe.loc[:,c].astype(str).fillna(\"-999999\")\n",
    "        if self.enc_type == \"label\":\n",
    "            for c,lbl in self.label_encoders:\n",
    "                dataframe.loc[:,c] = lbl.transform(dataframe.loc[:,c].values)\n",
    "                return dataframe\n",
    "        elif self.enc_type == \"binary\":\n",
    "            for c,lbl in self.label_binarizer:\n",
    "                val = lbl.transform(dataframe.loc[:,c].values)\n",
    "                dataframe = dataframe.drop([c],axis=1)\n",
    "                for i in range(val.shape[1]):\n",
    "                    new_col_name = c+f\"__bin__{i}\"\n",
    "                    dataframe[new_col_name] = va[:,i] \n",
    "                return dataframe\n",
    "        elif self.enc_type == 'ohe':\n",
    "            return self.ohe.transform(dataframe[self.cat_feats].values)\n",
    "        else:\n",
    "            return Exception(\"Encoding type not understood\")\n",
    "    \n",
    "if __name__ == \"__main__\": \n",
    "    df = pd.read_csv(r'C:\\Deep Learning CourseEra Course\\kaggle\\cat_enc_challange\\input\\train.csv')\n",
    "    cols = [c for c in df.columns if c not in ['id','target']]\n",
    "    print(cols)\n",
    "    # cat_feats = CategoricalFeatures(df,cols,'label',True)\n",
    "    cat_feats = CategoricalFeatures(df,\n",
    "                                    categorical_features = cols,\n",
    "                                    encoding_type='label',\n",
    "                                    handle_na=True)\n",
    "    output_df = cat_feats.fit_transform()\n",
    "    \n",
    "    one_hot = CategoricalFeatures(output_df,\n",
    "                                  categorical_features=cols,\n",
    "                                  encoding_type='ohe',\n",
    "                                  handle_na=True)\n",
    "    one_df = one_hot.fit_transform()\n",
    "    print(one_df.shape)\n"
   ]
  },
  {
   "cell_type": "code",
   "execution_count": null,
   "metadata": {},
   "outputs": [],
   "source": [
    "df.bin_0.value_counts()"
   ]
  },
  {
   "cell_type": "code",
   "execution_count": null,
   "metadata": {},
   "outputs": [],
   "source": [
    "df.columns"
   ]
  },
  {
   "cell_type": "code",
   "execution_count": null,
   "metadata": {},
   "outputs": [],
   "source": [
    "df.nom_4.value_counts()"
   ]
  },
  {
   "cell_type": "code",
   "execution_count": null,
   "metadata": {},
   "outputs": [],
   "source": [
    "df.ord_4.value_counts()"
   ]
  },
  {
   "cell_type": "code",
   "execution_count": null,
   "metadata": {},
   "outputs": [],
   "source": [
    "df.bin_0.fillna(-1,inplace=True)"
   ]
  },
  {
   "cell_type": "code",
   "execution_count": null,
   "metadata": {},
   "outputs": [],
   "source": [
    "df.bin_0.unique()"
   ]
  },
  {
   "cell_type": "code",
   "execution_count": null,
   "metadata": {},
   "outputs": [],
   "source": [
    "lbl = preprocessing.LabelEncoder()\n",
    "lbl.fit(df.bin_0.values)"
   ]
  },
  {
   "cell_type": "code",
   "execution_count": null,
   "metadata": {},
   "outputs": [],
   "source": [
    "lbl.transform(df.bin_0.values)"
   ]
  },
  {
   "cell_type": "code",
   "execution_count": null,
   "metadata": {},
   "outputs": [],
   "source": [
    "import os"
   ]
  },
  {
   "cell_type": "code",
   "execution_count": null,
   "metadata": {},
   "outputs": [],
   "source": [
    "cols = [c for c in df.columns if c not in ['id','target']]"
   ]
  },
  {
   "cell_type": "code",
   "execution_count": null,
   "metadata": {},
   "outputs": [],
   "source": [
    "for c in cols:\n",
    "    df.loc[:, c] = df.loc[:,c].astype(str).fillna(\"-9999999\")"
   ]
  },
  {
   "cell_type": "code",
   "execution_count": null,
   "metadata": {},
   "outputs": [],
   "source": []
  },
  {
   "cell_type": "code",
   "execution_count": null,
   "metadata": {},
   "outputs": [],
   "source": [
    "ohe = preprocessing.OneHotEncoder()\n",
    "# ohe.fit(df[cols].values)\n",
    "v = ohe.fit_transform(df[cols].values).toarray()"
   ]
  }
 ],
 "metadata": {
  "kernelspec": {
   "display_name": "Python 3",
   "language": "python",
   "name": "python3"
  },
  "language_info": {
   "codemirror_mode": {
    "name": "ipython",
    "version": 3
   },
   "file_extension": ".py",
   "mimetype": "text/x-python",
   "name": "python",
   "nbconvert_exporter": "python",
   "pygments_lexer": "ipython3",
   "version": "3.5.3"
  }
 },
 "nbformat": 4,
 "nbformat_minor": 2
}
